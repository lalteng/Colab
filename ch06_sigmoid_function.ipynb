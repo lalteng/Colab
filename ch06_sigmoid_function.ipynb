{
  "nbformat": 4,
  "nbformat_minor": 0,
  "metadata": {
    "kernelspec": {
      "display_name": "Python 3",
      "language": "python",
      "name": "python3"
    },
    "language_info": {
      "codemirror_mode": {
        "name": "ipython",
        "version": 3
      },
      "file_extension": ".py",
      "mimetype": "text/x-python",
      "name": "python",
      "nbconvert_exporter": "python",
      "pygments_lexer": "ipython3",
      "version": "3.6.5"
    },
    "colab": {
      "name": "ch06-sigmoid_function.ipynb",
      "provenance": [],
      "include_colab_link": true
    }
  },
  "cells": [
    {
      "cell_type": "markdown",
      "metadata": {
        "id": "view-in-github",
        "colab_type": "text"
      },
      "source": [
        "<a href=\"https://colab.research.google.com/github/lalteng/Colab/blob/main/ch06_sigmoid_function.ipynb\" target=\"_parent\"><img src=\"https://colab.research.google.com/assets/colab-badge.svg\" alt=\"Open In Colab\"/></a>"
      ]
    },
    {
      "cell_type": "markdown",
      "metadata": {
        "id": "9ykXAN5tJtlN"
      },
      "source": [
        "# Ch06 神經網路的基礎：人工神經元和激活函數"
      ]
    },
    {
      "cell_type": "markdown",
      "metadata": {
        "id": "KyFnpkOwq97l"
      },
      "source": [
        "### 6.3.1 換成 sigmoid 激活函數的神經元"
      ]
    },
    {
      "cell_type": "code",
      "metadata": {
        "id": "Jn_p6al3JtlV"
      },
      "source": [
        "from math import e"
      ],
      "execution_count": null,
      "outputs": []
    },
    {
      "cell_type": "code",
      "metadata": {
        "id": "_04DsbdoJtlW"
      },
      "source": [
        "def sigmoid(z):\n",
        "    return 1/(1+e**-z)"
      ],
      "execution_count": null,
      "outputs": []
    },
    {
      "cell_type": "code",
      "metadata": {
        "id": "U-kQjX8-JtlW",
        "colab": {
          "base_uri": "https://localhost:8080/"
        },
        "outputId": "7f7f231e-58a7-4694-8521-97dc694b903c"
      },
      "source": [
        "sigmoid(.00001)"
      ],
      "execution_count": null,
      "outputs": [
        {
          "output_type": "execute_result",
          "data": {
            "text/plain": [
              "0.5000024999999999"
            ]
          },
          "metadata": {},
          "execution_count": 3
        }
      ]
    },
    {
      "cell_type": "code",
      "metadata": {
        "id": "ZtqQO0fBJtlX",
        "colab": {
          "base_uri": "https://localhost:8080/"
        },
        "outputId": "1577fb1c-726c-481a-9112-2af9b22b987f"
      },
      "source": [
        "sigmoid(10000)"
      ],
      "execution_count": null,
      "outputs": [
        {
          "output_type": "execute_result",
          "data": {
            "text/plain": [
              "1.0"
            ]
          },
          "metadata": {},
          "execution_count": 4
        }
      ]
    },
    {
      "cell_type": "code",
      "metadata": {
        "id": "tGUMSgBLJtlY",
        "colab": {
          "base_uri": "https://localhost:8080/"
        },
        "outputId": "5b6912d3-a1e1-4cb4-ee97-a6f290b5e483"
      },
      "source": [
        "sigmoid(-1)"
      ],
      "execution_count": null,
      "outputs": [
        {
          "output_type": "execute_result",
          "data": {
            "text/plain": [
              "0.2689414213699951"
            ]
          },
          "metadata": {
            "tags": []
          },
          "execution_count": 3
        }
      ]
    },
    {
      "cell_type": "code",
      "metadata": {
        "id": "pl-Nsfu5JtlY",
        "outputId": "89ebfd12-2335-47ef-eec6-e93850c640db"
      },
      "source": [
        "sigmoid(-10)"
      ],
      "execution_count": null,
      "outputs": [
        {
          "output_type": "execute_result",
          "data": {
            "text/plain": [
              "4.539786870243442e-05"
            ]
          },
          "metadata": {
            "tags": []
          },
          "execution_count": 6
        }
      ]
    }
  ]
}